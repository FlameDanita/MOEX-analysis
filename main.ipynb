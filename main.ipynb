{
 "cells": [
  {
   "cell_type": "code",
   "execution_count": 30,
   "metadata": {},
   "outputs": [],
   "source": [
    "import numpy as np\n",
    "import pandas as pd\n",
    "\n",
    "# import data_files\n",
    "\n",
    "\n",
    "# import codecs\n",
    "# import talib"
   ]
  },
  {
   "cell_type": "code",
   "execution_count": null,
   "metadata": {},
   "outputs": [],
   "source": [
    "import os\n",
    "\n",
    "class data:\n",
    "    def __init__(self):\n",
    "        self.files = []\n",
    "        for file in os.listdir():\n",
    "            if file[-4:] == '.csv':\n",
    "                self.files.append(file)\n",
    "        print('Доступные файлы:', self.files)\n",
    "\n",
    "    def read_csv(self, file_num=0):\n",
    "        self.file_name = self.files[file_num]\n",
    "\n",
    "        split_datas = self.file_name.split('_')\n",
    "        self.ticker = split_datas[0]\n",
    "        self.interval = split_datas[1]\n",
    "        self.start_data = split_datas[2]\n",
    "        self.end_data = split_datas[3].split('.')[0]\n",
    "\n",
    "        self.table = pd.read_csv(self.file_name)\n",
    "\n",
    "    def get_info(self):\n",
    "        print(\"Тикер: \", self.ticker)\n",
    "        print(\"Интервал: \", self.interval)\n",
    "        print(\"Дата начала:\", self.start_data)\n",
    "        print(\"Дата конца:\", self.end_data)\n",
    "\n",
    "    def plot_table(self):\n",
    "        pass"
   ]
  },
  {
   "cell_type": "code",
   "execution_count": 39,
   "metadata": {},
   "outputs": [
    {
     "name": "stdout",
     "output_type": "stream",
     "text": [
      "Доступные файлы: ['SBER_60_2023-11-10_2024-11-09.csv']\n",
      "Тикер:  SBER\n",
      "Интервал:  60\n",
      "Дата начала: 2023-11-10\n",
      "Дата конца: 2024-11-09\n"
     ]
    }
   ],
   "source": [
    "data = data()\n",
    "data.read_csv()\n",
    "data.get_info()"
   ]
  },
  {
   "cell_type": "code",
   "execution_count": 41,
   "metadata": {},
   "outputs": [
    {
     "data": {
      "text/html": [
       "<div>\n",
       "<style scoped>\n",
       "    .dataframe tbody tr th:only-of-type {\n",
       "        vertical-align: middle;\n",
       "    }\n",
       "\n",
       "    .dataframe tbody tr th {\n",
       "        vertical-align: top;\n",
       "    }\n",
       "\n",
       "    .dataframe thead th {\n",
       "        text-align: right;\n",
       "    }\n",
       "</style>\n",
       "<table border=\"1\" class=\"dataframe\">\n",
       "  <thead>\n",
       "    <tr style=\"text-align: right;\">\n",
       "      <th></th>\n",
       "      <th>begin</th>\n",
       "      <th>open</th>\n",
       "      <th>close</th>\n",
       "      <th>high</th>\n",
       "      <th>low</th>\n",
       "      <th>value</th>\n",
       "      <th>volume</th>\n",
       "    </tr>\n",
       "  </thead>\n",
       "  <tbody>\n",
       "    <tr>\n",
       "      <th>0</th>\n",
       "      <td>2023-11-10 09:00:00</td>\n",
       "      <td>276.99</td>\n",
       "      <td>276.99</td>\n",
       "      <td>276.99</td>\n",
       "      <td>276.99</td>\n",
       "      <td>1.192996e+07</td>\n",
       "      <td>43070</td>\n",
       "    </tr>\n",
       "    <tr>\n",
       "      <th>1</th>\n",
       "      <td>2023-11-10 10:00:00</td>\n",
       "      <td>276.99</td>\n",
       "      <td>280.09</td>\n",
       "      <td>281.30</td>\n",
       "      <td>276.60</td>\n",
       "      <td>4.983073e+09</td>\n",
       "      <td>17835820</td>\n",
       "    </tr>\n",
       "    <tr>\n",
       "      <th>2</th>\n",
       "      <td>2023-11-10 11:00:00</td>\n",
       "      <td>280.09</td>\n",
       "      <td>279.89</td>\n",
       "      <td>280.47</td>\n",
       "      <td>279.12</td>\n",
       "      <td>1.503269e+09</td>\n",
       "      <td>5375140</td>\n",
       "    </tr>\n",
       "    <tr>\n",
       "      <th>3</th>\n",
       "      <td>2023-11-10 12:00:00</td>\n",
       "      <td>279.90</td>\n",
       "      <td>279.90</td>\n",
       "      <td>280.30</td>\n",
       "      <td>279.50</td>\n",
       "      <td>9.214569e+08</td>\n",
       "      <td>3291130</td>\n",
       "    </tr>\n",
       "    <tr>\n",
       "      <th>4</th>\n",
       "      <td>2023-11-10 13:00:00</td>\n",
       "      <td>279.91</td>\n",
       "      <td>279.50</td>\n",
       "      <td>280.03</td>\n",
       "      <td>279.11</td>\n",
       "      <td>8.273971e+08</td>\n",
       "      <td>2959960</td>\n",
       "    </tr>\n",
       "  </tbody>\n",
       "</table>\n",
       "</div>"
      ],
      "text/plain": [
       "                 begin    open   close    high     low         value    volume\n",
       "0  2023-11-10 09:00:00  276.99  276.99  276.99  276.99  1.192996e+07     43070\n",
       "1  2023-11-10 10:00:00  276.99  280.09  281.30  276.60  4.983073e+09  17835820\n",
       "2  2023-11-10 11:00:00  280.09  279.89  280.47  279.12  1.503269e+09   5375140\n",
       "3  2023-11-10 12:00:00  279.90  279.90  280.30  279.50  9.214569e+08   3291130\n",
       "4  2023-11-10 13:00:00  279.91  279.50  280.03  279.11  8.273971e+08   2959960"
      ]
     },
     "execution_count": 41,
     "metadata": {},
     "output_type": "execute_result"
    }
   ],
   "source": [
    "data.table.head()"
   ]
  },
  {
   "cell_type": "code",
   "execution_count": null,
   "metadata": {},
   "outputs": [],
   "source": []
  },
  {
   "cell_type": "code",
   "execution_count": null,
   "metadata": {},
   "outputs": [],
   "source": []
  }
 ],
 "metadata": {
  "kernelspec": {
   "display_name": "base",
   "language": "python",
   "name": "python3"
  },
  "language_info": {
   "codemirror_mode": {
    "name": "ipython",
    "version": 3
   },
   "file_extension": ".py",
   "mimetype": "text/x-python",
   "name": "python",
   "nbconvert_exporter": "python",
   "pygments_lexer": "ipython3",
   "version": "3.11.7"
  }
 },
 "nbformat": 4,
 "nbformat_minor": 2
}
