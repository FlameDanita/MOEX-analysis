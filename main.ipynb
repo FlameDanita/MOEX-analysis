{
 "cells": [
  {
   "cell_type": "code",
   "execution_count": 1,
   "metadata": {},
   "outputs": [],
   "source": [
    "import numpy as np\n",
    "import data_files\n",
    "\n",
    "# import codecs\n",
    "# import talib"
   ]
  },
  {
   "cell_type": "code",
   "execution_count": 12,
   "metadata": {},
   "outputs": [],
   "source": [
    "import os\n",
    "\n",
    "class data:\n",
    "    def __init__(self):\n",
    "        self.files = []\n",
    "        for file in os.listdir():\n",
    "            if file[-4:] == '.csv':\n",
    "                self.files.append(file)\n",
    "        print('Доступные файлы:', self.files)\n",
    "\n",
    "    def read_csv(self, file_num=0):\n",
    "        self.file_name = self.files[file_num]\n",
    "        print(self.file_name)\n",
    "\n",
    "        self.ticker = self.file_name[:4]\n",
    "        # interval = 60\n",
    "\n",
    "        # end_date = datetime.datetime.now().date()\n",
    "        # start_date = end_date - datetime.timedelta(days=365)\n",
    "\n",
    "        \n",
    "\n",
    "    def get_info(self):\n",
    "        print(\"Тикер: \", self.ticker)\n",
    "\n",
    "        \n",
    "        # self.work_list = {\n",
    "        #             'time' : [],\n",
    "        #             'open' : [], \n",
    "        #             'high' : [], \n",
    "        #             'low' : [], \n",
    "        #             'close' : [], \n",
    "        #             'volume' : []\n",
    "        #             }\n",
    "        # with codecs.open(self.file_name, \"r\", 'cp1251') as csv_file:\n",
    "        #     csv_reader = csv.reader(csv_file, delimiter=',')\n",
    "        #     csv_file.readline()\n",
    "        #     for lines in csv_reader:\n",
    "        #         self.work_list['time'].append(float(lines[2]))\n",
    "        #         self.work_list['open'].append(float(lines[4]))\n",
    "        #         self.work_list['high'].append(float(lines[5]))\n",
    "        #         self.work_list['low'].append(float(lines[6]))\n",
    "        #         self.work_list['close'].append(float(lines[7]))\n",
    "        #         self.work_list['volume'].append(float(lines[8]))\n",
    "        # self.work_list['close'] = np.asarray(self.work_list['close'])\n",
    "        # self.macd, self.macdsignal, self.macdhist = talib.MACD(self.work_list['close'], fastperiod=12, slowperiod=26, signalperiod=9)"
   ]
  },
  {
   "cell_type": "code",
   "execution_count": 13,
   "metadata": {},
   "outputs": [
    {
     "name": "stdout",
     "output_type": "stream",
     "text": [
      "Доступные файлы: ['SBER_60_2023-11-10_2024-11-09.csv']\n",
      "SBER_60_2023-11-10_2024-11-09.csv\n",
      "Тикер:  SBER\n"
     ]
    }
   ],
   "source": [
    "data = data()\n",
    "data.read_csv()\n",
    "data.get_info()"
   ]
  },
  {
   "cell_type": "code",
   "execution_count": null,
   "metadata": {},
   "outputs": [],
   "source": []
  },
  {
   "cell_type": "code",
   "execution_count": null,
   "metadata": {},
   "outputs": [],
   "source": []
  },
  {
   "cell_type": "code",
   "execution_count": null,
   "metadata": {},
   "outputs": [],
   "source": []
  }
 ],
 "metadata": {
  "kernelspec": {
   "display_name": "base",
   "language": "python",
   "name": "python3"
  },
  "language_info": {
   "codemirror_mode": {
    "name": "ipython",
    "version": 3
   },
   "file_extension": ".py",
   "mimetype": "text/x-python",
   "name": "python",
   "nbconvert_exporter": "python",
   "pygments_lexer": "ipython3",
   "version": "3.11.7"
  }
 },
 "nbformat": 4,
 "nbformat_minor": 2
}
